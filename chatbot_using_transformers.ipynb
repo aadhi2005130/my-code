{
  "nbformat": 4,
  "nbformat_minor": 0,
  "metadata": {
    "colab": {
      "provenance": [],
      "authorship_tag": "ABX9TyOigmcEq/pXnMysP7+y1GXi",
      "include_colab_link": true
    },
    "kernelspec": {
      "name": "python3",
      "display_name": "Python 3"
    },
    "language_info": {
      "name": "python"
    }
  },
  "cells": [
    {
      "cell_type": "markdown",
      "metadata": {
        "id": "view-in-github",
        "colab_type": "text"
      },
      "source": [
        "<a href=\"https://colab.research.google.com/github/aadhi2005130/my-code/blob/main/chatbot_using_transformers.ipynb\" target=\"_parent\"><img src=\"https://colab.research.google.com/assets/colab-badge.svg\" alt=\"Open In Colab\"/></a>"
      ]
    },
    {
      "cell_type": "code",
      "execution_count": 1,
      "metadata": {
        "colab": {
          "base_uri": "https://localhost:8080/"
        },
        "id": "J7TPKNyz3Ux-",
        "outputId": "28fdf41a-d1c2-452f-b681-374525b6860c"
      },
      "outputs": [
        {
          "output_type": "stream",
          "name": "stderr",
          "text": [
            "/usr/local/lib/python3.11/dist-packages/huggingface_hub/utils/_auth.py:94: UserWarning: \n",
            "The secret `HF_TOKEN` does not exist in your Colab secrets.\n",
            "To authenticate with the Hugging Face Hub, create a token in your settings tab (https://huggingface.co/settings/tokens), set it as secret in your Google Colab and restart your session.\n",
            "You will be able to reuse this secret in all of your notebooks.\n",
            "Please note that authentication is recommended but still optional to access public models or datasets.\n",
            "  warnings.warn(\n"
          ]
        },
        {
          "output_type": "stream",
          "name": "stdout",
          "text": [
            "Welcome to the Indian Tourism Chatbot!\n",
            "Type 'quit' to end the conversation.\n",
            "User:quit\n",
            "Thank you for using the Indian Tourism Chatbot. Goodbye!\n"
          ]
        }
      ],
      "source": [
        "import os\n",
        "import atexit\n",
        "import shutil\n",
        "from transformers import BlenderbotTokenizer, BlenderbotForConditionalGeneration\n",
        "model_name = \"facebook/blenderbot-1B-distill\"\n",
        "tokenizer = BlenderbotTokenizer.from_pretrained(model_name)\n",
        "model = BlenderbotForConditionalGeneration.from_pretrained(model_name)\n",
        "def interact_with_chatbot(user_input,conversation_history):\n",
        "  conversation_history.append(f\"User:{user_input}\")\n",
        "  conversation_text=\" \".join(conversation_history[-5:])\n",
        "  inputs = tokenizer(conversation_history, return_tensors=\"pt\",truncation=True)\n",
        "  response_ids=model.generate(**inputs,max_length=1000,pad_token_id=tokenizer.eos_token_id)\n",
        "  response_text=tokenizer.decode(response_ids[0],skip_special_tokens=True)\n",
        "  conversation_history.append(f\"Chatbot:{response_text}\")\n",
        "  return response_text\n",
        "def delete_model_files():\n",
        "    cache_dir = path.os.path.expanduser(\"~/.cache/huggingface/hub/models--facebook--blenderbot-1B-distill\")\n",
        "\n",
        "    if os.path.exists(cache_dir):\n",
        "        user_input = input(f\"Do you want to delete the model files from the cache directory? (yes/no): \")\n",
        "        if user_input.lower() == \"y\":\n",
        "            shutil.rmtree(cache_dir)\n",
        "        print(f\"Deleted model files from cache directory: {cache_dir}\")\n",
        "    else:\n",
        "        print(f\"Model files not found in cache directory{cache_dir}\")\n",
        "\n",
        "atexit.register(delete_model_files)\n",
        "\n",
        "print(\"Welcome to the Indian Tourism Chatbot!\")\n",
        "print(\"Type 'quit' to end the conversation.\")\n",
        "conversation_history=[]\n",
        "while True:\n",
        "  user_input=input(\"User:\")\n",
        "  if user_input.lower()==\"quit\":\n",
        "    print(\"Thank you for using the Indian Tourism Chatbot. Goodbye!\")\n",
        "    break\n",
        "  response = interact_with_chatbot(user_input,conversation_history)\n",
        "  print(f\"Chatbot:\",response)\n",
        ""
      ]
    }
  ]
}