{
  "nbformat": 4,
  "nbformat_minor": 0,
  "metadata": {
    "colab": {
      "provenance": [],
      "authorship_tag": "ABX9TyP7io9oy0ixxr7BqEvwCnCw",
      "include_colab_link": true
    },
    "kernelspec": {
      "name": "python3",
      "display_name": "Python 3"
    },
    "language_info": {
      "name": "python"
    }
  },
  "cells": [
    {
      "cell_type": "markdown",
      "metadata": {
        "id": "view-in-github",
        "colab_type": "text"
      },
      "source": [
        "<a href=\"https://colab.research.google.com/github/aadhi2005130/my-code/blob/main/4th_Feb_NLP_Excel.ipynb\" target=\"_parent\"><img src=\"https://colab.research.google.com/assets/colab-badge.svg\" alt=\"Open In Colab\"/></a>"
      ]
    },
    {
      "cell_type": "code",
      "execution_count": 1,
      "metadata": {
        "colab": {
          "base_uri": "https://localhost:8080/"
        },
        "id": "UU0TMRKmwU0x",
        "outputId": "bf6c1f07-06a4-4691-c5b3-c64ba8fe20ad"
      },
      "outputs": [
        {
          "output_type": "stream",
          "name": "stdout",
          "text": [
            "Collecting emot\n",
            "  Downloading emot-3.1-py3-none-any.whl.metadata (396 bytes)\n",
            "Downloading emot-3.1-py3-none-any.whl (61 kB)\n",
            "\u001b[2K   \u001b[90m━━━━━━━━━━━━━━━━━━━━━━━━━━━━━━━━━━━━━━━━\u001b[0m \u001b[32m61.5/61.5 kB\u001b[0m \u001b[31m1.3 MB/s\u001b[0m eta \u001b[36m0:00:00\u001b[0m\n",
            "\u001b[?25hInstalling collected packages: emot\n",
            "Successfully installed emot-3.1\n"
          ]
        }
      ],
      "source": [
        "!pip install emot"
      ]
    },
    {
      "cell_type": "code",
      "source": [
        "text1 = \"What are you saying 😂,I am the boss 😎, and why are you so 😞\""
      ],
      "metadata": {
        "id": "ljgJikbgwoIy"
      },
      "execution_count": 9,
      "outputs": []
    },
    {
      "cell_type": "code",
      "source": [
        "import re\n",
        "from emot.emo_unicode import UNICODE_EMOJI\n",
        "from emot.emo_unicode import EMOTICONS_EMO"
      ],
      "metadata": {
        "id": "g6KcI49OwoUP"
      },
      "execution_count": 3,
      "outputs": []
    },
    {
      "cell_type": "code",
      "source": [
        "def converting_emojis(text):\n",
        "  for emot in UNICODE_EMOJI:\n",
        "    text = text.replace(emot, \"_\".join(UNICODE_EMOJI[emot].replace(\",\",\"\")\\\n",
        "                                       .replace(\":\",\"\").split()))\n",
        "  return text\n",
        "\n",
        "converting_emojis(text1)"
      ],
      "metadata": {
        "colab": {
          "base_uri": "https://localhost:8080/",
          "height": 35
        },
        "id": "Ekjn3taVwoXb",
        "outputId": "8a684eae-0dc0-4f38-ee03-095e20aa66cf"
      },
      "execution_count": 11,
      "outputs": [
        {
          "output_type": "execute_result",
          "data": {
            "text/plain": [
              "'What are you saying face_with_tears_of_joy,I am the boss smiling_face_with_sunglasses, and why are you so disappointed_face'"
            ],
            "application/vnd.google.colaboratory.intrinsic+json": {
              "type": "string"
            }
          },
          "metadata": {},
          "execution_count": 11
        }
      ]
    },
    {
      "cell_type": "code",
      "source": [
        "def emoji_remove(string):\n",
        "  emoji_unicode = re.compile(\"[\"\n",
        "                            u\"\\U0001F600-\\U0001F64F\"\n",
        "                            u\"\\U0001F300-\\U0001F5FF\"\n",
        "                            u\"\\U0001F680-\\U0001F6FF\"\n",
        "                            u\"\\U0001F1E0-\\U0001F1FF\"\n",
        "                            u\"\\U00002500-\\U00002BEF\"\n",
        "                            u\"\\U00002702-\\U00027B0\"\n",
        "                            U000024C2-\\U0001F251\n",
        "                            U0001f92600-\\U0001f937\n",
        "                             U000010000-\\U0001f937\n",
        "\n",
        "                            \"]+\", flags=re.UNICODE)\n",
        "  return emoji_unicode.sub(r\"\", string)\n",
        "emoji_remove(text1)"
      ],
      "metadata": {
        "id": "ReK2wKqawoad"
      },
      "execution_count": null,
      "outputs": []
    },
    {
      "cell_type": "code",
      "source": [],
      "metadata": {
        "id": "NGfH4ueqwodT"
      },
      "execution_count": null,
      "outputs": []
    },
    {
      "cell_type": "code",
      "source": [],
      "metadata": {
        "id": "P0nlyqTHwogQ"
      },
      "execution_count": null,
      "outputs": []
    },
    {
      "cell_type": "code",
      "source": [],
      "metadata": {
        "id": "4GAv38LAwoi3"
      },
      "execution_count": null,
      "outputs": []
    },
    {
      "cell_type": "code",
      "source": [],
      "metadata": {
        "id": "a63wheQzwomd"
      },
      "execution_count": null,
      "outputs": []
    }
  ]
}