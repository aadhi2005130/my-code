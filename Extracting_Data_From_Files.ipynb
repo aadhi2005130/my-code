{
  "nbformat": 4,
  "nbformat_minor": 0,
  "metadata": {
    "colab": {
      "provenance": [],
      "authorship_tag": "ABX9TyPKPJvdZWNFLcTIkYDqMUlZ",
      "include_colab_link": true
    },
    "kernelspec": {
      "name": "python3",
      "display_name": "Python 3"
    },
    "language_info": {
      "name": "python"
    }
  },
  "cells": [
    {
      "cell_type": "markdown",
      "metadata": {
        "id": "view-in-github",
        "colab_type": "text"
      },
      "source": [
        "<a href=\"https://colab.research.google.com/github/aadhi2005130/my-code/blob/main/Extracting_Data_From_Files.ipynb\" target=\"_parent\"><img src=\"https://colab.research.google.com/assets/colab-badge.svg\" alt=\"Open In Colab\"/></a>"
      ]
    },
    {
      "cell_type": "code",
      "execution_count": 1,
      "metadata": {
        "colab": {
          "base_uri": "https://localhost:8080/"
        },
        "id": "wVprJiWoKFcJ",
        "outputId": "e529456e-87b7-4797-b1ae-8e2185d1a417"
      },
      "outputs": [
        {
          "output_type": "stream",
          "name": "stdout",
          "text": [
            "Collecting python-docx\n",
            "  Downloading python_docx-1.1.2-py3-none-any.whl.metadata (2.0 kB)\n",
            "Requirement already satisfied: lxml>=3.1.0 in /usr/local/lib/python3.11/dist-packages (from python-docx) (5.3.0)\n",
            "Requirement already satisfied: typing-extensions>=4.9.0 in /usr/local/lib/python3.11/dist-packages (from python-docx) (4.12.2)\n",
            "Downloading python_docx-1.1.2-py3-none-any.whl (244 kB)\n",
            "\u001b[?25l   \u001b[90m━━━━━━━━━━━━━━━━━━━━━━━━━━━━━━━━━━━━━━━━\u001b[0m \u001b[32m0.0/244.3 kB\u001b[0m \u001b[31m?\u001b[0m eta \u001b[36m-:--:--\u001b[0m\r\u001b[2K   \u001b[91m━━━━━━━━━━━━━━━\u001b[0m\u001b[90m╺\u001b[0m\u001b[90m━━━━━━━━━━━━━━━━━━━━━━━━\u001b[0m \u001b[32m92.2/244.3 kB\u001b[0m \u001b[31m3.2 MB/s\u001b[0m eta \u001b[36m0:00:01\u001b[0m\r\u001b[2K   \u001b[91m━━━━━━━━━━━━━━━━━━━━━━━━━━━━━━━━━━━━━━\u001b[0m\u001b[91m╸\u001b[0m\u001b[90m━\u001b[0m \u001b[32m235.5/244.3 kB\u001b[0m \u001b[31m4.4 MB/s\u001b[0m eta \u001b[36m0:00:01\u001b[0m\r\u001b[2K   \u001b[90m━━━━━━━━━━━━━━━━━━━━━━━━━━━━━━━━━━━━━━━━\u001b[0m \u001b[32m244.3/244.3 kB\u001b[0m \u001b[31m3.2 MB/s\u001b[0m eta \u001b[36m0:00:00\u001b[0m\n",
            "\u001b[?25hInstalling collected packages: python-docx\n",
            "Successfully installed python-docx-1.1.2\n"
          ]
        }
      ],
      "source": [
        "!pip install python-docx"
      ]
    },
    {
      "cell_type": "code",
      "source": [
        "import docx"
      ],
      "metadata": {
        "id": "HJX3bx4nKPGh"
      },
      "execution_count": 2,
      "outputs": []
    },
    {
      "cell_type": "code",
      "source": [
        "doc = open(\"/content/file1.docx\", \"rb\")\n",
        "document = docx.Document(doc)"
      ],
      "metadata": {
        "id": "0qiKA9PNKPOX"
      },
      "execution_count": 12,
      "outputs": []
    },
    {
      "cell_type": "code",
      "source": [
        "docu=\"\"\n",
        "for para in document.paragraphs:\n",
        "    docu +=para.text\n",
        "print(docu)"
      ],
      "metadata": {
        "colab": {
          "base_uri": "https://localhost:8080/"
        },
        "id": "qwXcXnqnKPRV",
        "outputId": "8d693118-2687-49b0-e27e-74f7cc6101af"
      },
      "execution_count": 13,
      "outputs": [
        {
          "output_type": "stream",
          "name": "stdout",
          "text": [
            "Development Plan for Greater Mumbai 2014‐2034AcknowledgementsThe Consultant wishes to thank the following individuals from the Municipal Corporation of Greater Mumbai for their invaluable support, insights and contributions towards ‘Working Paper 1 – Preparation of Base Map’ for the preparation of the Development Plan for Greater Mumbai 2014‐34.Mr. Subodh Kumar, IAS, Municipal Commissioner;Mr. Rajeev Kuknoor, Chief Engineer Development Plan;Mr. Sudhir Ghate, Deputy Chief Engineer Development Plan;Mr. A.G. Marathe, Deputy Chief Engineer Development Plan;Mr. R. Balachandran, Executive Engineer and Town Planning Officer, Development Plan.Our gratitude to the following experts for their invaluable insights and support:Mr. V.K Phatak, Former Chief Town Planner (MMRDA);Mr. A.N Kale, Former Chief Engineer, (DP);Mr. A. S Jain Former Dy. Chief Engineer, (DP).We wish to especially thank MCGM officers, Mr. Jagdish Talreja, Mr. Dinesh Naik, Mr. Hiren Daftardar, Ms. Anita Naik for their continual support since the beginning of the project and their help towards familiarization and data collection. They have been instrumental in helping to contact various MCGM departments as well as in helping to establish contact with personnel from other government departments and organizations. Many thanks for the MCGM team, for deploying personnel, particularly Mr. Prasad Gharat, on extensive field visits that have helped in understanding actual ground conditions.We apologize if we have inadvertently omitted anyone to whom acknowledgement is due. We hope and anticipate the work's usefulness for the intended purpose.Development Plan for Greater Mumbai 2014‐2034Table of ContentsList of FiguresAbbreviationsMCGM\tMunicipal Corporation of Greater MumbaiMUTP\tMumbai Urban Transport ProjectMTHL\tMumbai Trans Harbour LinkMMR\tMumbai Metropolitan RegionMHADA\tMaharashtra Housing and Area Development AuthorityMPCB\tMaharashtra Pollution Control BoardPLU\tProposed Land useSWOT\tStrengths Weaknesses Opportunities ThreatsToR\tTerms of ReferenceIntroductionThe primary purpose of a Base Map is to provide general information about spatial patterns, provide specific information about particular locations, while serving as a base for overlaying various layers of information, spatial and non‐spatial. The Base Map is a crucial output of the GIS database. It provides essential information that forms the basis of all further data layers that are added to form the complete database. Typically a Base Map would involve a geo‐referenced satellite image over which various data layers are superimposed to form GIS database for Base Map. The objective of the creation of a Base Map of acceptable accuracy is to facilitate preparation of the Development Plan for Mumbai 2034. In this context, the Base Map will serve as the underlying reference for the GIS database. This database, then serves further purposes of Existing Land Use Surveys and Mapping, future additional layer overlays for urban planning analysis including existing situation analysis and ongoing and proposed projects, sectoral thematic mapping, scenario building. This finally leads to the Proposed Land Use Maps that form the Development Plan for Mumbai 2034.Data available has been assessed In terms of data quality received and gaps in the data identified. The Way Forward suggests methods as mutually discussed between Consultant and MCGM during weekly meetings to fast track corrections and proceed with GIS data base and Base Map preparation.Data made available for Preparation of Base Map by MCGMThe spatial data for preparation of this Base Map and GIS Database is the data received from MCGM on 19.05.2011. Projections system used is WGS_1984_UTM_Zone_43N.The spatial data that MCGM has provided includes GIS data for all the 24 wards within its jurisdiction MCGM has also provided additional data in its possession relevant to the project. Some of the data that has been provided is in CAD vector format which needs geo‐referencing first to extract relevant information.Quick Bird satellite image handed over by MCGMA Quick Bird High resolution satellite image has been provided by MCGM for the scope of the project. MCGM had already got this image geo‐referenced during their GIS creation exercise. On the basis of the discussions during the weekly meetings with MCGM, it has been assumed that this satellite image provided by MCGM is of acceptable accuracy for the preparation of the Base Map for the ELU Surveys and the preparation of the Development Plan.1.Digitized Tikka Sheets (Shape Files)The MCGM has handed over digital data pertaining to 1:500 Tikka sheets. These sheets have been scanned, digitized and converted into GIS vector layers. The digitized data has been placed over the geo‐referenced Quick Bird Image to achieve a good reference. Since geo‐referencing of Quick Bird image has already been carried out by MCGM at the level of accuracy acceptable to MCGM, it is therefore assumed that this digitized Tikka data provided by MCGM is of acceptable accuracy for the preparation of the Base Map for the ELU Surveys and the preparation of the Development Plan.Figure : Sample Base Map – 1 generated from MCGM databaseFigure : Sample Base Map – 2 generated from MCGM databaseOther Data Layers forming present Development Plan (Shape Files)The MCGM database provided has a number of layers pertaining to spatial data for each of the 24 wards. These layers contain various features such as roads, buildings, nallas etc. It also contains cadastral information related to individual parcels of land. A complete ward‐wise listing of the various layers in the database is provided in the Inception Report Appendix. Other details are as indicated below:Components of Base MapThe Base map is formed through a series of overlays of spatial data layers as provided by MCGM on a base layer which is the Quick Bird image.Base layerThe Quick Bird high resolution satellite image (0.61m accuracy) of the MCGM jurisdiction that has been provided by MCGM will form the base layer of the Base Map.Figure : Quick Bird Satellite Image as provded by MCGMData layersOver the Quick Bird satellite image of the area under MCGM, several layers available in the database provided by MCGM will be used as overlays to create the Base Map. Layers pertaining to jurisdictional boundaries/ administrative boundaries and special planning areas (under MMRDA and MIDC) will be overlaid. Layers pertaining to natural features like forests, water bodies, hills are essential overlays and shall be extracted from the given data base. Further, layers pertaining to transportation networks (airport, railways and roads) and cadastral parcels will be overlaid.From the database provided by MCGM, along with the Quick Bird satellite image the following layers will be used to create the Base Map:Jurisdiction boundaries: Ward boundaries and other boundaries of spatial disaggregation special planning areas, TP Schemes;Physical features: Street blocks, buildings, property (cadastral parcels);Transportation: Roads, road centrelines, rail roads, transportation infrastructure parcels, railway stations, airport boundary, highways, water based transportation facilities, BEST bus Depot/bus stations;Utility infrastructure: High tension lines, water pipelines (visible above ground);Environmentally sensitive areas: National park, nallas, water bodies etc.Data to be updatedData regarding natural features is not readily available in the data layers provided. Since water bodies sometimes alter courses over time updated data related to water bodies, such as rivers and lakes will be obtained from the Quick Bird satellite image provided. Similarly information regarding hills will be obtained from Contour data which will be provided by the MCGM. Further, updating of the available Base Map layers such as road and road centerlines will also be done based on the Quick Bird Image provided.The Base Map prepared by the process detailed below will form the base for the Existing Landuse Map. For the MCGM limits the available Base Map has been obtained from the Tikka sheet of 1960’s where all the available layers have been digitized at the scale of 1:500. Quick Bird satellite image which (according to Digital Globe, the provider of these satellite images) is meant for a scale of 1: 5,000 was used to geo‐reference the Tikka sheets. Therefore the positional accuracy of the Tikka data corresponds to the geo‐referenced satellite image. The digitized scale of 1:500 remains unchanged for the Base Map.Figure : Base Map Preparation ProcessFigure : Diagram of Base Map Preparation ProcessQuality of Data ReceivedBackgroundThe main objective of this data assessment is to verify the quality of the GIS data handed over by MCGM to the Consultant. The data is checked for its quality with respect to overlay (over the Quick Bird image given by the MCGM), presence of data in all the given layers, attribute information regarding features present, overlay with respect to other available layers and topology issues.The Base Map layers given by the MCGM contains data for all the 24 wards. However the data is not of same quality in terms of overlay, topology and availability of the data in the layer files. There are also issues related to attributes such as nomenclature, field information and presence of null values in the attribute tables. Please refer to the Inception Report Annexure on quality of data.There is a major shift ranging from 14 ‐ 60 meters for 6 of the wards which needs to be corrected and brought back to its location using the available Quick Bird Image which is of 0.61 m resolution or preferably through DGPS control points. The high resolution satellite image is a vintage image and does not reflect the latest ground reality. The Base Map shall be updated to reflect the ground reality by updating the layers based on the ELU survey, Google Earth image and other field surveys.GIS Issues and their resolutionSeven types of issues are highlighted here:Quick Bird ImageThe Quick Bird image appears cropped short of the MCGM jurisdictional boundary and is incomplete. As a result, there is a minimal loss of data around the coastal edges and at the borders of the jurisdiction of the MCGM. The Quick Bird image 2007‐08 of the MMRDA once provided will be utilized by the consultants for updating the data base in the missing areas of the MCGM Quick Bird image.Figure : Quick Bird image 2007‐08 indicating cropped edges short of the MCGM BoundaryShift in data layersWhen the data layer was overlaid over the Quick Bird satellite image, it was noticed that in the case of 6 wards there is a significant shift in the entire data nearly ranging from 19m to 55m. MCGM has asked the Consultant to rectify the errors and shift the data layers back as accurately as possible.Figure : Example of Ward F/N wherein property boundaries are not matching with Quick BirdOn trying to rectify the data it was found that the data not only requires a shift but also some rotation to have as precise an overlay as possible with visual correction. It has been discussed with the MCGM that this visual correction may entail an error of 3m‐8m. There is a risk of creating overlaps/gaps between different wards datasets (since the data has not been merged into one dataset). These gaps/ overlaps would be left as such since these tasks correspond to a land titling/ cadastral project which is beyond the scope of this project.The Consultant is correcting the data to the extent possible after discussion with MCGM to achieve a level of acceptable accuracy.In wards H/E, K/W, P, R, S, T where there seems to be a data shift, there continues to be edge matching issues, even after the initial task of repositioning and relocating it back to its original position. A methodology mutually agreed between Consultant and MCGM will be adopted to resolve this.Figure : Edge matching IssuesNew buildingsNew buildings are found to be missing in all the wards since the data is extracted from old Tikka Sheets. These will be updated by the Consultants based on methodology agreed with MCGM.Figure 9: Example of Ward B wherein new buildings are not present and will be updated with methodology agreed mutuallyWard boundariesThe ward boundary layer given by MCGM will be treated as final. Wards M and R are shown as single entities and further subdivisions into M/E, M/W, R/N, R/S, R/C are not shown. The consultant will work with MCGM for delineation of the current status of boundaries.Figure 10: Example of Ward R shown as a single entity without sub divisionsTopologyThe data also has topology errors such as overlaps, undershoots, and pseudo nodes. These have to be corrected by the Consultant with help from the MCGM.Figure : Example of Ward C with topology errorsFigure : Topology Errors with reference to Property Layer, example of Ward K/W with topology errorsAttribute InfoThe naming of layers does not follow the Nomenclature of having the first letter in capitals; the layers are not named as per standard GIS nomenclature with each layer having its own name and property. Some of the Attribute layers are not completely filled and has lot of missing information.Attribute data is found missing for some layers, for example, the layer Layout properties, the CTS_CS_No along with village name and division are not complete. The Consultant will not modify cadastral data and will use it as is. The time required for modification will be intimated to MCGM.Figure : Issues related to nomenclature of feature classesFigure : Issues related to attribute tableThere is a difference in field characteristics in the attribute data for different wards; for example, it has a short integer for ward H/W for the filled Bldg id, it is a string for the same field in ward K/E and in ward M and N the field has long integer as its character. This causes a problem in uploading of datainto a single database where it is necessary to have common properties for all the fields to load it into a single database. Time required for the same will be intimated to MCGM.Figure : Issues related to Attribute Field CharacteristicsSummary Assessment Matrix for GIS Data for each of the wardsSummary Assessment Matrix for GIS Data for each of the wardsProjection System used:WGS_1984_UTM_ZONE_43NSl no  Ward Name\tGlobal view of Topology errors\tExample of Topology errorWard ATotal No of layers: 59No of layers with data: 35 Total Topology errors: 484 Gaps: 450Overlap: 34Overlay status (As per Quick Bird image from MCGM): GoodWard BTotal No of layers: 60No of layers with data: 37 Total Topology errors: 274 Gaps: 273Overlap: 1Overlay status (As per Quick Bird image from MCGM): GoodWard CTotal No of layers: 59No of layers with data: 29 Total Topology errors: 288 Gaps: 286Overlap: 22Overlay status (As per Quick Bird image from MCGM): GoodWard DTotal No of layers: 60No of layers with data: 34 Total Topology errors: 170 Gaps: 159Overlap: 11Overlay status (As per Quick Bird image from MCGM): GoodWard ETotal No of layers: 59No of layers with data: 32 Total Topology errors: 269 Gaps: 258Overlap: 11Overlay status (As per Quick Bird image from MCGM): GoodWard F/NTotal No of layers: 59No of layers with data: 32 Total Topology errors: 155 Gaps: 126Overlap: 29Overlay status (As per Quick Bird image from MCGM): GoodWard F/STotal No of layers: 60No of layers with data: 32 Total Topology errors: 116 Gaps: 98Overlap: 18Overlay status (As per Quick Bird image from MCGM): GoodWard G/NTotal No of layers: 60No of layers with data: 43 Total Topology errors: 86 Gaps: 75Overlap: 11Overlay status (As per Quick Bird image from MCGM): GoodWard G/STotal No of layers: 60No of layers with data: 43 Total Topology errors: 62 Gaps: 60Overlap: 2Overlay status (As per Quick Bird image from MCGM): GoodWard H/ETotal No of layers: 61No of layers with data: 46 Total Topology errors: 317 Gaps: 303Overlap: 14Overlay status (As per Quick Bird image from MCGM): Shift of 55 metersWard H/WTotal No of layers: 62No of layers with data: 50 Total Topology errors: 746 Gaps: 734Overlap: 12Overlay status (As per Quick Bird image from MCGM): GoodWard K/ETotal No of layers: 60No of layers with data: 47 Total Topology errors: 366 Gaps: 268Overlap: 98Overlay status (As per Quick Bird image from MCGM): GoodWard K/WTotal No of layers: 61No of layers with data: 49 Total Topology errors: 841 Gaps: 548Overlap: 266Overlay status (As per Quick Bird image from MCGM): Shift of 55 metersWard LTotal No of layers: 62No of layers with data: 34 Total Topology errors: 461 Gaps: 382Overlap: 79Overlay status (As per Quick Bird image from MCGM): GoodWard MTotal No of layers: 61No of layers with data: 34 Total Topology errors: 593 Gaps: 557Overlap: 36Overlay status (As per Quick Bird image from MCGM): GoodWard NTotal No of layers: 60No of layers with data: 44 Total Topology errors: 305 Gaps: 241Overlap: 64Overlay status (As per Quick Bird image from MCGM): GoodWard PTotal No of layers: 61No of layers with data: 42 Total Topology errors: 628 Gaps: 512Overlap: 116Overlay status (As per Quick Bird image from MCGM): Shift of 48 metersWard RTotal No of layers: 61No of layers with data: 40 Total Topology errors: 678 Gaps: 487Overlap: 191Overlay status (As per Quick Bird image from MCGM): Shift of 60 metersWard STotal No of layers: 60No of layers with data: 34 Total Topology errors: 274 Gaps: 165Overlap: 109Overlay status (As per Quick Bird image from MCGM): Shift of 60 metersWard TTotal No of layers: 61No of layers with data: 32 Total Topology errors: 449 Gaps: 226Overlap: 223Overlay status (As per Quick Bird image from MCGM): Shift of 14 metersWay ForwardThe Consultant is currently working towards the creation of a database of acceptable accuracy. Rectification of errors on the GIS data provided is being done through the methods suggested above. Ward wise data layers are also being consolidated into a contiguous database for the entire area under MCGM jurisdiction.Once the data is rectified, the Base Map will be prepared through consolidation of requisite layers as described above. This will serve as the base for the Existing Land Use mapping exercise.Carrying out primary surveys to ascertain the existing land use will be the next step. These will result in overlays on the Base Map to create the Existing land Use Map.Further overlays will be prepared for the sectoral findings from secondary surveys and data collected, towards existing situation analysis.\n"
          ]
        }
      ]
    },
    {
      "cell_type": "code",
      "source": [
        "!pip install bs4"
      ],
      "metadata": {
        "colab": {
          "base_uri": "https://localhost:8080/"
        },
        "id": "aeK0d2TVKPUR",
        "outputId": "884ffba5-82aa-462d-d0ad-ee5b35836a0e"
      },
      "execution_count": 14,
      "outputs": [
        {
          "output_type": "stream",
          "name": "stdout",
          "text": [
            "Collecting bs4\n",
            "  Downloading bs4-0.0.2-py2.py3-none-any.whl.metadata (411 bytes)\n",
            "Requirement already satisfied: beautifulsoup4 in /usr/local/lib/python3.11/dist-packages (from bs4) (4.13.3)\n",
            "Requirement already satisfied: soupsieve>1.2 in /usr/local/lib/python3.11/dist-packages (from beautifulsoup4->bs4) (2.6)\n",
            "Requirement already satisfied: typing-extensions>=4.0.0 in /usr/local/lib/python3.11/dist-packages (from beautifulsoup4->bs4) (4.12.2)\n",
            "Downloading bs4-0.0.2-py2.py3-none-any.whl (1.2 kB)\n",
            "Installing collected packages: bs4\n",
            "Successfully installed bs4-0.0.2\n"
          ]
        }
      ]
    },
    {
      "cell_type": "code",
      "source": [
        "import urllib.request as urllib2\n",
        "from bs4 import BeautifulSoup"
      ],
      "metadata": {
        "id": "9qL6I1uQKPXO"
      },
      "execution_count": null,
      "outputs": []
    },
    {
      "cell_type": "code",
      "source": [
        "response = urllib2.urlopen()\n",
        "html = response.read()\n",
        "soup = BeautifulSoup(html,\"html5lib\")"
      ],
      "metadata": {
        "id": "8cOh8R-yKPZ3"
      },
      "execution_count": null,
      "outputs": []
    },
    {
      "cell_type": "code",
      "source": [],
      "metadata": {
        "id": "-Hud0IDDKPdZ"
      },
      "execution_count": null,
      "outputs": []
    },
    {
      "cell_type": "code",
      "source": [],
      "metadata": {
        "id": "_RJyQBipKQO5"
      },
      "execution_count": null,
      "outputs": []
    },
    {
      "cell_type": "code",
      "source": [],
      "metadata": {
        "id": "FyQ_IgqoKQWN"
      },
      "execution_count": null,
      "outputs": []
    }
  ]
}